{
 "cells": [
  {
   "cell_type": "markdown",
   "id": "f0dc5a79-3d13-44f2-b1c9-cd11aae10a95",
   "metadata": {},
   "source": [
    "### Q1: What is Flask Framework? What are the advantages of Flask Framework?\n",
    "\"\"\"\n",
    "Flask is a lightweight WSGI web framework in Python. It is designed to make getting started quick and easy, with the ability to scale up to complex applications.\n",
    "\n",
    "Advantages of Flask:\n",
    "1. **Lightweight**: Minimalistic framework with only essential components.\n",
    "2. **Modular**: Allows developers to use extensions for additional functionality.\n",
    "3. **Built-in Development Server**: Includes a debugger and test server.\n",
    "4. **Flexible**: Can be easily customized for different use cases.\n",
    "5. **Easy to Learn**: Simple API and well-documented.\n",
    "6. **RESTful Support**: Ideal for building REST APIs.\n",
    "\"\"\"\n",
    "\n",
    "\n",
    "\n",
    "\n"
   ]
  },
  {
   "cell_type": "markdown",
   "id": "3420e280-a34e-44ff-89a6-a6b01d6a665f",
   "metadata": {},
   "source": [
    "\n",
    "### Q2: What is App Routing in Flask? Why do we use app routes?\n",
    "\"\"\"\n",
    "App Routing in Flask is the process of mapping URLs to specific functions. It is done using the `@app.route()` decorator.\n",
    "\n",
    "Why use app routes?\n",
    "1. **Defines application endpoints**: Helps in handling different URL requests.\n",
    "2. **Improves code organization**: Keeps routes structured and manageable.\n",
    "3. **Facilitates REST API development**: Allows building APIs efficiently.\n",
    "\"\"\""
   ]
  },
  {
   "cell_type": "code",
   "execution_count": null,
   "id": "f7c17146-2c3a-44c3-af04-9d3a2d15f58b",
   "metadata": {},
   "outputs": [],
   "source": [
    "### Q4: Create \"welcome\" and root (\"/\") routes\n",
    "\n",
    "from flask import Flask\n",
    "\n",
    "app = Flask(__name__)\n",
    "\n",
    "@app.route('/')\n",
    "def home():\n",
    "    return \"\"\"\n",
    "    <h1>Company Name: ABC Corporation</h1>\n",
    "    <h2>Location: India</h2>\n",
    "    <h3>Contact Detail: 999-999-9999</h3>\n",
    "    \"\"\"\n",
    "\n",
    "@app.route('/welcome')\n",
    "def welcome():\n",
    "    return \"<h1>Welcome to ABC Corporation</h1>\"\n",
    "\n",
    "if __name__ == '__main__':\n",
    "    app.run(debug=True)\n"
   ]
  },
  {
   "cell_type": "code",
   "execution_count": null,
   "id": "ecf14a17-8836-4a14-90ad-abc986199319",
   "metadata": {},
   "outputs": [],
   "source": [
    "### Q5: What function is used in Flask for URL Building? Demonstration of url_for()\n",
    "\n",
    "from flask import Flask, url_for\n",
    "\n",
    "app = Flask(__name__)\n",
    "\n",
    "@app.route('/')\n",
    "def index():\n",
    "    return \"Index Page\"\n",
    "\n",
    "@app.route('/profile/<username>')\n",
    "def profile(username):\n",
    "    return f\"Profile Page of {username}\"\n",
    "\n",
    "with app.test_request_context():\n",
    "    print(url_for('index'))  # Output: '/'\n",
    "    print(url_for('profile', username='JohnDoe'))  # Output: '/profile/JohnDoe'\n",
    "\n",
    "if __name__ == '__main__':\n",
    "    app.run(debug=True)\n"
   ]
  },
  {
   "cell_type": "code",
   "execution_count": null,
   "id": "b12f13bc-ab38-44c2-9f05-3084d6e5092f",
   "metadata": {},
   "outputs": [],
   "source": []
  },
  {
   "cell_type": "code",
   "execution_count": null,
   "id": "c6f7041b-27c2-4185-b44e-473b8af62f22",
   "metadata": {},
   "outputs": [],
   "source": []
  },
  {
   "cell_type": "code",
   "execution_count": null,
   "id": "d0b69f4c-72f8-4f57-9159-d11eba8ae2c0",
   "metadata": {},
   "outputs": [],
   "source": []
  },
  {
   "cell_type": "code",
   "execution_count": null,
   "id": "cd7a781d-d1fb-4d17-88ab-28c9cd49b05d",
   "metadata": {},
   "outputs": [],
   "source": []
  },
  {
   "cell_type": "code",
   "execution_count": null,
   "id": "cd248f64-b7e7-4270-8692-692190dfc072",
   "metadata": {},
   "outputs": [],
   "source": []
  },
  {
   "cell_type": "code",
   "execution_count": null,
   "id": "2fca7254-6b3d-487e-b097-645fa6508924",
   "metadata": {},
   "outputs": [],
   "source": []
  },
  {
   "cell_type": "code",
   "execution_count": null,
   "id": "9ec10e32-0248-4fb4-a5b3-a5f950663748",
   "metadata": {},
   "outputs": [],
   "source": []
  },
  {
   "cell_type": "code",
   "execution_count": null,
   "id": "79be5504-92a3-429f-a4ba-d9ae68ce7479",
   "metadata": {},
   "outputs": [],
   "source": []
  },
  {
   "cell_type": "code",
   "execution_count": null,
   "id": "bf0083c8-8adc-49f3-a092-849641d2f4e7",
   "metadata": {},
   "outputs": [],
   "source": []
  },
  {
   "cell_type": "code",
   "execution_count": null,
   "id": "59c3c33b-c750-4224-a7d4-c5ca5171d3ee",
   "metadata": {},
   "outputs": [],
   "source": []
  },
  {
   "cell_type": "code",
   "execution_count": null,
   "id": "55df967f-101b-4a94-91dc-f43a6435b33d",
   "metadata": {},
   "outputs": [],
   "source": []
  },
  {
   "cell_type": "code",
   "execution_count": null,
   "id": "befb553c-39be-457d-bd22-da0461126b9d",
   "metadata": {},
   "outputs": [],
   "source": []
  }
 ],
 "metadata": {
  "kernelspec": {
   "display_name": "Python [conda env:base] *",
   "language": "python",
   "name": "conda-base-py"
  },
  "language_info": {
   "codemirror_mode": {
    "name": "ipython",
    "version": 3
   },
   "file_extension": ".py",
   "mimetype": "text/x-python",
   "name": "python",
   "nbconvert_exporter": "python",
   "pygments_lexer": "ipython3",
   "version": "3.11.7"
  }
 },
 "nbformat": 4,
 "nbformat_minor": 5
}
